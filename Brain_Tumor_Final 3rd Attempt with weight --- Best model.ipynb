{
 "cells": [
  {
   "cell_type": "code",
   "execution_count": 1,
   "id": "9992c6b6",
   "metadata": {},
   "outputs": [
    {
     "data": {
      "application/javascript": [
       "IPython.notebook.set_autosave_interval(190000)"
      ]
     },
     "metadata": {},
     "output_type": "display_data"
    },
    {
     "name": "stdout",
     "output_type": "stream",
     "text": [
      "Autosaving every 190 seconds\n"
     ]
    }
   ],
   "source": [
    "import numpy as np\n",
    "import pandas as pd\n",
    "import matplotlib.pyplot as plt\n",
    "from PIL import Image as im\n",
    "import random\n",
    "%autosave 190\n",
    "\n",
    "import zipfile as zf\n",
    "import os\n",
    "import shutil\n",
    "from tqdm import tqdm\n",
    "import cv2\n",
    "import imutils \n",
    "from collections import Counter\n",
    "import time"
   ]
  },
  {
   "cell_type": "code",
   "execution_count": 2,
   "id": "74f73efc",
   "metadata": {},
   "outputs": [],
   "source": [
    "#all library needed for CNN\n",
    "import tensorflow as tf\n",
    "from tensorflow.keras.models import Sequential, Model\n",
    "from tensorflow.keras.utils import to_categorical\n",
    "from tensorflow.keras.layers import Dense, Conv2D, MaxPool2D, Flatten, Dropout, BatchNormalization, Input, MaxPooling2D, GlobalAveragePooling2D\n",
    "from tensorflow.keras import optimizers,regularizers\n",
    "from tensorflow.keras.callbacks import ReduceLROnPlateau, EarlyStopping\n",
    "from tensorflow.keras.preprocessing.image import ImageDataGenerator, load_img, img_to_array\n",
    "from tensorflow.keras.applications import VGG19, DenseNet201, DenseNet121\n",
    "from sklearn.metrics import classification_report, confusion_matrix\n",
    "from sklearn.model_selection import train_test_split, GroupShuffleSplit\n",
    "\n",
    "from skimage.transform import resize\n",
    "\n",
    "from keras.callbacks import EarlyStopping, ReduceLROnPlateau"
   ]
  },
  {
   "cell_type": "code",
   "execution_count": 3,
   "id": "9c288edf",
   "metadata": {},
   "outputs": [],
   "source": [
    "path = r\"C:\\CSU class\\Calss 2022 Spring Local\\CS 445\\Final Project\\Datasets\"\n",
    "train_path = os.path.join(path, \"Train\")\n",
    "test_path = os.path.join(path, \"Test\")"
   ]
  },
  {
   "cell_type": "markdown",
   "id": "536480c9",
   "metadata": {},
   "source": [
    "### read image dataset"
   ]
  },
  {
   "cell_type": "code",
   "execution_count": 4,
   "id": "14d57c80",
   "metadata": {},
   "outputs": [],
   "source": [
    "def crop_brain_contour(image):\n",
    "    \n",
    "    # Convert the image to grayscale, and blur it slightly\n",
    "    gray = cv2.cvtColor(image, cv2.COLOR_BGR2GRAY)\n",
    "    gray = cv2.GaussianBlur(gray, (5, 5), 0)\n",
    "    \n",
    "    # threshold the image, then perform a series of erosions +\n",
    "    # dilations to remove any small regions of noise\n",
    "    thresh = cv2.threshold(gray, 45, 255, cv2.THRESH_BINARY)[1]\n",
    "    thresh = cv2.erode(thresh, None, iterations=2)\n",
    "    thresh = cv2.dilate(thresh, None, iterations=2)\n",
    "\n",
    "    # Find contours in thresholded image, then grab the largest one\n",
    "    cnts = cv2.findContours(thresh.copy(), cv2.RETR_EXTERNAL, cv2.CHAIN_APPROX_SIMPLE)\n",
    "    cnts = imutils.grab_contours(cnts)\n",
    "    c = max(cnts, key=cv2.contourArea)\n",
    "    # determine the most extreme points along the contour\n",
    "    extLeft = tuple(c[c[:, :, 0].argmin()][0])\n",
    "    extRight = tuple(c[c[:, :, 0].argmax()][0])\n",
    "    extTop = tuple(c[c[:, :, 1].argmin()][0])\n",
    "    extBot = tuple(c[c[:, :, 1].argmax()][0])\n",
    "    \n",
    "    # crop new image out using the extreme points\n",
    "    new_image = image[extTop[1]:extBot[1], extLeft[0]:extRight[0]]            \n",
    "    \n",
    "    return new_image"
   ]
  },
  {
   "cell_type": "code",
   "execution_count": 5,
   "id": "447f298b",
   "metadata": {},
   "outputs": [
    {
     "name": "stdout",
     "output_type": "stream",
     "text": [
      "time: 3.2579\n"
     ]
    }
   ],
   "source": [
    "xtrain_ori = list()\n",
    "ytrain_ori = list()\n",
    "listshape = list()\n",
    "s = time.time()\n",
    "for root, dirs, files in os.walk(train_path):\n",
    "    if not dirs:\n",
    "        title = root.split(\"\\\\\")[-1]\n",
    "        for i in range(len(files)):\n",
    "            temppath = os.path.join(root, files[i])\n",
    "            \n",
    "            ytrain_ori.append(title)\n",
    "            \n",
    "#             img = im.open(temppath)\n",
    "#             img = np.array(img)\n",
    "            img = cv2.imread(temppath)\n",
    "            img = crop_brain_contour(img)\n",
    "#resize function is from library skimage.transform import resize         \n",
    "            temp = resize(img, (100, 100))\n",
    "            listshape.append(temp.shape)\n",
    "            \n",
    "            xtrain_ori.append(temp)\n",
    "print(\"time:\", np.round(time.time() - s, 4))"
   ]
  },
  {
   "cell_type": "code",
   "execution_count": 6,
   "id": "0b01add9",
   "metadata": {},
   "outputs": [
    {
     "data": {
      "text/plain": [
       "Counter({(100, 100, 3): 253})"
      ]
     },
     "execution_count": 6,
     "metadata": {},
     "output_type": "execute_result"
    }
   ],
   "source": [
    "Counter(listshape)"
   ]
  },
  {
   "cell_type": "markdown",
   "id": "9657ba4e",
   "metadata": {},
   "source": [
    "All the images have saved in the difference sizes"
   ]
  },
  {
   "cell_type": "markdown",
   "id": "5c4fd291",
   "metadata": {},
   "source": [
    "Since the shape of train is imbalance, so we will have to calculate weigth on this datasets"
   ]
  },
  {
   "cell_type": "markdown",
   "id": "a721d64b",
   "metadata": {},
   "source": [
    "### Now we need to randomize the or shuffe the list to make sure we won't have a mistake from setting incorder"
   ]
  },
  {
   "cell_type": "code",
   "execution_count": 7,
   "id": "ade51cf0",
   "metadata": {},
   "outputs": [
    {
     "data": {
      "text/plain": [
       "(253, 100, 100, 3)"
      ]
     },
     "execution_count": 7,
     "metadata": {},
     "output_type": "execute_result"
    }
   ],
   "source": [
    "np.array(xtrain_ori).shape"
   ]
  },
  {
   "cell_type": "code",
   "execution_count": 8,
   "id": "f25ffc8d",
   "metadata": {},
   "outputs": [],
   "source": [
    "random.seed(99)\n",
    "randlis = [i for i in range(len(xtrain_ori))]\n",
    "random.shuffle(randlis)\n",
    "random.shuffle(randlis)\n",
    "random.shuffle(randlis)\n",
    "random.shuffle(randlis)\n",
    "random.shuffle(randlis)\n",
    "random.shuffle(randlis)\n",
    "xtrain, ytrain = list(), list()\n",
    "for i in randlis:\n",
    "    xtrain.append(xtrain_ori[i])\n",
    "    temp = ytrain_ori[i]\n",
    "    if temp.lower() == 'no':\n",
    "        ytrain.append(0)\n",
    "    else:\n",
    "        ytrain.append(1)"
   ]
  },
  {
   "cell_type": "code",
   "execution_count": 9,
   "id": "d10c047c",
   "metadata": {},
   "outputs": [],
   "source": [
    "xtrain = np.array(xtrain) / 255.0\n",
    "ytrain = to_categorical(np.array(ytrain))"
   ]
  },
  {
   "cell_type": "code",
   "execution_count": 10,
   "id": "2272ab18",
   "metadata": {},
   "outputs": [
    {
     "data": {
      "text/plain": [
       "((253, 100, 100, 3), (253, 2))"
      ]
     },
     "execution_count": 10,
     "metadata": {},
     "output_type": "execute_result"
    }
   ],
   "source": [
    "xtrain.shape, ytrain.shape"
   ]
  },
  {
   "cell_type": "markdown",
   "id": "ba54a616",
   "metadata": {},
   "source": [
    "### Train test split data"
   ]
  },
  {
   "cell_type": "code",
   "execution_count": 11,
   "id": "d326e4ad",
   "metadata": {},
   "outputs": [],
   "source": [
    "xtrain, xtest, ytrain, ytest = train_test_split(\n",
    "    np.array(xtrain), np.array(ytrain), test_size=.2 , random_state=11)"
   ]
  },
  {
   "cell_type": "markdown",
   "id": "c8cccf02",
   "metadata": {},
   "source": [
    "### Calculating weight"
   ]
  },
  {
   "cell_type": "code",
   "execution_count": 12,
   "id": "401f8e25",
   "metadata": {},
   "outputs": [
    {
     "name": "stderr",
     "output_type": "stream",
     "text": [
      "C:\\Users\\singt\\anaconda3\\envs\\tf2\\lib\\site-packages\\sklearn\\utils\\validation.py:70: FutureWarning: Pass classes=['no' 'yes'], y=['no', 'no', 'no', 'no', 'no', 'no', 'no', 'no', 'no', 'no', 'no', 'no', 'no', 'no', 'no', 'no', 'no', 'no', 'no', 'no', 'no', 'no', 'no', 'no', 'no', 'no', 'no', 'no', 'no', 'no', 'no', 'no', 'no', 'no', 'no', 'no', 'no', 'no', 'no', 'no', 'no', 'no', 'no', 'no', 'no', 'no', 'no', 'no', 'no', 'no', 'no', 'no', 'no', 'no', 'no', 'no', 'no', 'no', 'no', 'no', 'no', 'no', 'no', 'no', 'no', 'no', 'no', 'no', 'no', 'no', 'no', 'no', 'no', 'no', 'no', 'no', 'no', 'no', 'no', 'no', 'no', 'no', 'no', 'no', 'no', 'no', 'no', 'no', 'no', 'no', 'no', 'no', 'no', 'no', 'no', 'no', 'no', 'no', 'yes', 'yes', 'yes', 'yes', 'yes', 'yes', 'yes', 'yes', 'yes', 'yes', 'yes', 'yes', 'yes', 'yes', 'yes', 'yes', 'yes', 'yes', 'yes', 'yes', 'yes', 'yes', 'yes', 'yes', 'yes', 'yes', 'yes', 'yes', 'yes', 'yes', 'yes', 'yes', 'yes', 'yes', 'yes', 'yes', 'yes', 'yes', 'yes', 'yes', 'yes', 'yes', 'yes', 'yes', 'yes', 'yes', 'yes', 'yes', 'yes', 'yes', 'yes', 'yes', 'yes', 'yes', 'yes', 'yes', 'yes', 'yes', 'yes', 'yes', 'yes', 'yes', 'yes', 'yes', 'yes', 'yes', 'yes', 'yes', 'yes', 'yes', 'yes', 'yes', 'yes', 'yes', 'yes', 'yes', 'yes', 'yes', 'yes', 'yes', 'yes', 'yes', 'yes', 'yes', 'yes', 'yes', 'yes', 'yes', 'yes', 'yes', 'yes', 'yes', 'yes', 'yes', 'yes', 'yes', 'yes', 'yes', 'yes', 'yes', 'yes', 'yes', 'yes', 'yes', 'yes', 'yes', 'yes', 'yes', 'yes', 'yes', 'yes', 'yes', 'yes', 'yes', 'yes', 'yes', 'yes', 'yes', 'yes', 'yes', 'yes', 'yes', 'yes', 'yes', 'yes', 'yes', 'yes', 'yes', 'yes', 'yes', 'yes', 'yes', 'yes', 'yes', 'yes', 'yes', 'yes', 'yes', 'yes', 'yes', 'yes', 'yes', 'yes', 'yes', 'yes', 'yes', 'yes', 'yes', 'yes', 'yes', 'yes', 'yes', 'yes', 'yes', 'yes'] as keyword args. From version 1.0 (renaming of 0.25) passing these as positional arguments will result in an error\n",
      "  warnings.warn(f\"Pass {args_msg} as keyword args. From version \"\n"
     ]
    }
   ],
   "source": [
    "from sklearn.utils import class_weight\n",
    "class_weights = class_weight.compute_class_weight('balanced',\n",
    "                                                 np.unique(ytrain_ori),\n",
    "                                                 ytrain_ori)\n",
    "class_weights = class_weights[::-1]"
   ]
  },
  {
   "cell_type": "markdown",
   "id": "bc703979",
   "metadata": {},
   "source": [
    "### Training model"
   ]
  },
  {
   "cell_type": "code",
   "execution_count": 13,
   "id": "51627ed9",
   "metadata": {},
   "outputs": [],
   "source": [
    "from keras.models import Sequential\n",
    "from keras.layers import Conv2D,MaxPooling2D,\\\n",
    "     Dropout,Flatten,Dense,Activation,\\\n",
    "     BatchNormalization\n",
    "\n",
    "model=Sequential()\n",
    "model.add(Conv2D(32,(3,3),activation='relu',input_shape=(100,100,3)))\n",
    "model.add(BatchNormalization())\n",
    "model.add(MaxPooling2D(pool_size=(2,2)))\n",
    "# model.add(Dropout(0.25))\n",
    "model.add(Conv2D(64,(3,3),activation='relu'))\n",
    "model.add(BatchNormalization())\n",
    "model.add(MaxPooling2D(pool_size=(2,2)))\n",
    "model.add(Dropout(0.25))\n",
    "model.add(Conv2D(128,(3,3),activation='relu'))\n",
    "model.add(BatchNormalization())\n",
    "model.add(MaxPooling2D(pool_size=(2,2)))\n",
    "# model.add(Dropout(0.25))\n",
    "model.add(Flatten())\n",
    "model.add(Dense(512,activation='relu'))\n",
    "model.add(BatchNormalization())\n",
    "# model.add(Dropout(0.5))\n",
    "model.add(Dropout(0.1))\n",
    "model.add(Dense(2,activation='softmax'))\n",
    "model.compile(loss='binary_crossentropy',\n",
    "  optimizer='adam',metrics=['accuracy'])"
   ]
  },
  {
   "cell_type": "code",
   "execution_count": null,
   "id": "a62bf6c1",
   "metadata": {},
   "outputs": [],
   "source": []
  },
  {
   "cell_type": "code",
   "execution_count": 14,
   "id": "b3e3aaf3",
   "metadata": {
    "scrolled": true
   },
   "outputs": [
    {
     "name": "stdout",
     "output_type": "stream",
     "text": [
      "Model: \"sequential\"\n",
      "_________________________________________________________________\n",
      "Layer (type)                 Output Shape              Param #   \n",
      "=================================================================\n",
      "conv2d (Conv2D)              (None, 98, 98, 32)        896       \n",
      "_________________________________________________________________\n",
      "batch_normalization (BatchNo (None, 98, 98, 32)        128       \n",
      "_________________________________________________________________\n",
      "max_pooling2d (MaxPooling2D) (None, 49, 49, 32)        0         \n",
      "_________________________________________________________________\n",
      "conv2d_1 (Conv2D)            (None, 47, 47, 64)        18496     \n",
      "_________________________________________________________________\n",
      "batch_normalization_1 (Batch (None, 47, 47, 64)        256       \n",
      "_________________________________________________________________\n",
      "max_pooling2d_1 (MaxPooling2 (None, 23, 23, 64)        0         \n",
      "_________________________________________________________________\n",
      "dropout (Dropout)            (None, 23, 23, 64)        0         \n",
      "_________________________________________________________________\n",
      "conv2d_2 (Conv2D)            (None, 21, 21, 128)       73856     \n",
      "_________________________________________________________________\n",
      "batch_normalization_2 (Batch (None, 21, 21, 128)       512       \n",
      "_________________________________________________________________\n",
      "max_pooling2d_2 (MaxPooling2 (None, 10, 10, 128)       0         \n",
      "_________________________________________________________________\n",
      "flatten (Flatten)            (None, 12800)             0         \n",
      "_________________________________________________________________\n",
      "dense (Dense)                (None, 512)               6554112   \n",
      "_________________________________________________________________\n",
      "batch_normalization_3 (Batch (None, 512)               2048      \n",
      "_________________________________________________________________\n",
      "dropout_1 (Dropout)          (None, 512)               0         \n",
      "_________________________________________________________________\n",
      "dense_1 (Dense)              (None, 2)                 1026      \n",
      "=================================================================\n",
      "Total params: 6,651,330\n",
      "Trainable params: 6,649,858\n",
      "Non-trainable params: 1,472\n",
      "_________________________________________________________________\n"
     ]
    }
   ],
   "source": [
    "model.summary()"
   ]
  },
  {
   "cell_type": "code",
   "execution_count": 15,
   "id": "aa3c1c74",
   "metadata": {},
   "outputs": [],
   "source": [
    "es = EarlyStopping(monitor='val_loss')"
   ]
  },
  {
   "cell_type": "code",
   "execution_count": 16,
   "id": "b7210ac8",
   "metadata": {
    "scrolled": true
   },
   "outputs": [],
   "source": [
    "# history = model.fit(xtrain, ytrain.astype('int'), epochs = 80,\n",
    "#                     class_weight={0: class_weights[0], 1:class_weights[1]},\n",
    "#                    callbacks=[es])"
   ]
  },
  {
   "cell_type": "code",
   "execution_count": 17,
   "id": "a20fdd40",
   "metadata": {},
   "outputs": [],
   "source": [
    "data_train = ImageDataGenerator(\n",
    "    rotation_range= 8,\n",
    "    zoom_range = 0.1\n",
    ")\n",
    "train_gen = data_train.flow(xtrain, ytrain, shuffle = True)\n",
    "\n",
    "data_test = ImageDataGenerator(\n",
    ")\n",
    "vail_gen = data_test.flow(xtest, ytest)"
   ]
  },
  {
   "cell_type": "code",
   "execution_count": 18,
   "id": "32c6a64b",
   "metadata": {},
   "outputs": [],
   "source": [
    "earlystop = EarlyStopping(patience = 10)\n",
    "learning_rate_reduction = ReduceLROnPlateau(monitor = 'val_acc',patience = 2,verbose = 1,factor = 0.5,min_lr = 0.00001)\n",
    "callbacks = [earlystop,learning_rate_reduction]"
   ]
  },
  {
   "cell_type": "code",
   "execution_count": 24,
   "id": "4612f792",
   "metadata": {
    "scrolled": true
   },
   "outputs": [
    {
     "name": "stdout",
     "output_type": "stream",
     "text": [
      "Epoch 1/30\n",
      "202/202 [==============================] - 10s 48ms/step - loss: 0.0030 - accuracy: 0.9988 - val_loss: 1.9886 - val_accuracy: 0.7666\n",
      "WARNING:tensorflow:Learning rate reduction is conditioned on metric `val_acc` which is not available. Available metrics are: loss,accuracy,val_loss,val_accuracy,lr\n",
      "Epoch 2/30\n",
      "202/202 [==============================] - 10s 47ms/step - loss: 0.0079 - accuracy: 0.9979 - val_loss: 1.8751 - val_accuracy: 0.7062\n",
      "WARNING:tensorflow:Learning rate reduction is conditioned on metric `val_acc` which is not available. Available metrics are: loss,accuracy,val_loss,val_accuracy,lr\n",
      "Epoch 3/30\n",
      "202/202 [==============================] - 10s 48ms/step - loss: 0.0057 - accuracy: 0.9985 - val_loss: 1.9048 - val_accuracy: 0.7452\n",
      "WARNING:tensorflow:Learning rate reduction is conditioned on metric `val_acc` which is not available. Available metrics are: loss,accuracy,val_loss,val_accuracy,lr\n",
      "Epoch 4/30\n",
      "202/202 [==============================] - 10s 48ms/step - loss: 0.0055 - accuracy: 0.9981 - val_loss: 1.6518 - val_accuracy: 0.7651\n",
      "WARNING:tensorflow:Learning rate reduction is conditioned on metric `val_acc` which is not available. Available metrics are: loss,accuracy,val_loss,val_accuracy,lr\n",
      "Epoch 5/30\n",
      "202/202 [==============================] - 10s 48ms/step - loss: 0.0040 - accuracy: 0.9990 - val_loss: 9.7554 - val_accuracy: 0.6274\n",
      "WARNING:tensorflow:Learning rate reduction is conditioned on metric `val_acc` which is not available. Available metrics are: loss,accuracy,val_loss,val_accuracy,lr\n",
      "Epoch 6/30\n",
      "202/202 [==============================] - 10s 49ms/step - loss: 0.0030 - accuracy: 0.9988 - val_loss: 2.9020 - val_accuracy: 0.7643\n",
      "WARNING:tensorflow:Learning rate reduction is conditioned on metric `val_acc` which is not available. Available metrics are: loss,accuracy,val_loss,val_accuracy,lr\n",
      "Epoch 7/30\n",
      "202/202 [==============================] - 10s 49ms/step - loss: 0.0041 - accuracy: 0.9983 - val_loss: 1.5227 - val_accuracy: 0.6656\n",
      "WARNING:tensorflow:Learning rate reduction is conditioned on metric `val_acc` which is not available. Available metrics are: loss,accuracy,val_loss,val_accuracy,lr\n",
      "Epoch 8/30\n",
      "202/202 [==============================] - 10s 49ms/step - loss: 0.0121 - accuracy: 0.9954 - val_loss: 1.9335 - val_accuracy: 0.7077\n",
      "WARNING:tensorflow:Learning rate reduction is conditioned on metric `val_acc` which is not available. Available metrics are: loss,accuracy,val_loss,val_accuracy,lr\n",
      "Epoch 9/30\n",
      "202/202 [==============================] - 10s 49ms/step - loss: 0.0082 - accuracy: 0.9978 - val_loss: 1.6258 - val_accuracy: 0.7651\n",
      "WARNING:tensorflow:Learning rate reduction is conditioned on metric `val_acc` which is not available. Available metrics are: loss,accuracy,val_loss,val_accuracy,lr\n",
      "Epoch 10/30\n",
      "202/202 [==============================] - 10s 50ms/step - loss: 0.0040 - accuracy: 0.9991 - val_loss: 1.2896 - val_accuracy: 0.7636\n",
      "WARNING:tensorflow:Learning rate reduction is conditioned on metric `val_acc` which is not available. Available metrics are: loss,accuracy,val_loss,val_accuracy,lr\n",
      "Epoch 11/30\n",
      "202/202 [==============================] - 10s 50ms/step - loss: 0.0026 - accuracy: 0.9990 - val_loss: 1.6564 - val_accuracy: 0.7850\n",
      "WARNING:tensorflow:Learning rate reduction is conditioned on metric `val_acc` which is not available. Available metrics are: loss,accuracy,val_loss,val_accuracy,lr\n",
      "Epoch 12/30\n",
      "202/202 [==============================] - 10s 50ms/step - loss: 6.2895e-04 - accuracy: 1.0000 - val_loss: 1.7970 - val_accuracy: 0.7422\n",
      "WARNING:tensorflow:Learning rate reduction is conditioned on metric `val_acc` which is not available. Available metrics are: loss,accuracy,val_loss,val_accuracy,lr\n",
      "Epoch 13/30\n",
      "202/202 [==============================] - 10s 50ms/step - loss: 3.5898e-04 - accuracy: 1.0000 - val_loss: 1.9546 - val_accuracy: 0.7246\n",
      "WARNING:tensorflow:Learning rate reduction is conditioned on metric `val_acc` which is not available. Available metrics are: loss,accuracy,val_loss,val_accuracy,lr\n",
      "Epoch 14/30\n",
      "202/202 [==============================] - 10s 50ms/step - loss: 0.0031 - accuracy: 0.9986 - val_loss: 1.9637 - val_accuracy: 0.7452\n",
      "WARNING:tensorflow:Learning rate reduction is conditioned on metric `val_acc` which is not available. Available metrics are: loss,accuracy,val_loss,val_accuracy,lr\n",
      "Epoch 15/30\n",
      "202/202 [==============================] - 10s 50ms/step - loss: 0.0046 - accuracy: 0.9988 - val_loss: 2.4599 - val_accuracy: 0.7429\n",
      "WARNING:tensorflow:Learning rate reduction is conditioned on metric `val_acc` which is not available. Available metrics are: loss,accuracy,val_loss,val_accuracy,lr\n",
      "Epoch 16/30\n",
      "202/202 [==============================] - 10s 50ms/step - loss: 0.0012 - accuracy: 0.9998 - val_loss: 1.8744 - val_accuracy: 0.7261\n",
      "WARNING:tensorflow:Learning rate reduction is conditioned on metric `val_acc` which is not available. Available metrics are: loss,accuracy,val_loss,val_accuracy,lr\n",
      "Epoch 17/30\n",
      "202/202 [==============================] - 10s 50ms/step - loss: 0.0025 - accuracy: 0.9993 - val_loss: 22.7085 - val_accuracy: 0.6480\n",
      "WARNING:tensorflow:Learning rate reduction is conditioned on metric `val_acc` which is not available. Available metrics are: loss,accuracy,val_loss,val_accuracy,lr\n",
      "Epoch 18/30\n",
      "202/202 [==============================] - 10s 50ms/step - loss: 0.0031 - accuracy: 0.9995 - val_loss: 2.6835 - val_accuracy: 0.7445\n",
      "WARNING:tensorflow:Learning rate reduction is conditioned on metric `val_acc` which is not available. Available metrics are: loss,accuracy,val_loss,val_accuracy,lr\n",
      "Epoch 19/30\n",
      "202/202 [==============================] - 10s 50ms/step - loss: 0.0012 - accuracy: 0.9993 - val_loss: 3.3835 - val_accuracy: 0.6886\n",
      "WARNING:tensorflow:Learning rate reduction is conditioned on metric `val_acc` which is not available. Available metrics are: loss,accuracy,val_loss,val_accuracy,lr\n",
      "Epoch 20/30\n",
      "202/202 [==============================] - 10s 51ms/step - loss: 3.6968e-04 - accuracy: 1.0000 - val_loss: 3.9032 - val_accuracy: 0.7070\n",
      "WARNING:tensorflow:Learning rate reduction is conditioned on metric `val_acc` which is not available. Available metrics are: loss,accuracy,val_loss,val_accuracy,lr\n"
     ]
    }
   ],
   "source": [
    "# Without weight\n",
    "history = model.fit(train_gen, epochs = 30,\n",
    "                    validation_data=vail_gen,\n",
    "                    validation_steps=xtest.shape[0],\n",
    "                    steps_per_epoch=xtrain.shape[0],\n",
    "                    class_weight = {0: class_weights[0], 1:class_weights[1]},\n",
    "                    callbacks = callbacks\n",
    "                   )\n"
   ]
  },
  {
   "cell_type": "code",
   "execution_count": 26,
   "id": "2e154efd",
   "metadata": {},
   "outputs": [
    {
     "data": {
      "image/png": "[encoded data removed]",
      "text/plain": [
       "<Figure size 864x360 with 2 Axes>"
      ]
     },
     "metadata": {
      "needs_background": "light"
     },
     "output_type": "display_data"
    }
   ],
   "source": [
    "def plot_history(history):    \n",
    "    \n",
    "    acc = history.history['accuracy']\n",
    "    val_acc = history.history['val_accuracy']\n",
    "    loss = history.history['loss']\n",
    "    val_loss = history.history['val_loss']\n",
    "    x = range(1, len(acc) + 1)\n",
    "\n",
    "    plt.figure(figsize=(12, 5))\n",
    "    plt.subplot(1, 2, 1)\n",
    "    plt.plot(x, acc)\n",
    "    plt.plot(x, val_acc)\n",
    "    plt.title('Accuracy vs. No. of epochs')\n",
    "    plt.ylabel('Accuracy')\n",
    "    plt.xlabel('Epoch')\n",
    "    plt.legend(['train', 'valid'], loc='upper left')\n",
    "\n",
    "    plt.subplot(1, 2, 2)\n",
    "    plt.plot(x, loss)\n",
    "    plt.plot(x, val_loss)\n",
    "    plt.title('Loss vs. No. of epochs')\n",
    "    plt.ylabel('Loss')\n",
    "    plt.xlabel('Epoch')\n",
    "    plt.legend(['train', 'valid'], loc='upper right')\n",
    "    plt.show()\n",
    "plot_history(history)"
   ]
  },
  {
   "cell_type": "code",
   "execution_count": 22,
   "id": "a7bf45a8",
   "metadata": {},
   "outputs": [
    {
     "name": "stdout",
     "output_type": "stream",
     "text": [
      "Test Loss: 0.04314\n",
      "Test Accuracy: 99.01%\n"
     ]
    }
   ],
   "source": [
    "results = model.evaluate(xtrain, ytrain, verbose=0)\n",
    "print('Test Loss: {:.5f}'.format(results[0]))\n",
    "print('Test Accuracy: {:.2f}%'.format(results[1] * 100))"
   ]
  },
  {
   "cell_type": "code",
   "execution_count": 23,
   "id": "fbad85d9",
   "metadata": {},
   "outputs": [
    {
     "name": "stdout",
     "output_type": "stream",
     "text": [
      "Test Loss: 3.13042\n",
      "Test Accuracy: 68.63%\n"
     ]
    }
   ],
   "source": [
    "results = model.evaluate(xtest, ytest, verbose=0)\n",
    "print('Test Loss: {:.5f}'.format(results[0]))\n",
    "print('Test Accuracy: {:.2f}%'.format(results[1] * 100))"
   ]
  },
  {
   "cell_type": "markdown",
   "id": "cf1e2696",
   "metadata": {},
   "source": [
    "### Save model"
   ]
  },
  {
   "cell_type": "code",
   "execution_count": null,
   "id": "4d0174d6",
   "metadata": {},
   "outputs": [],
   "source": [
    "model.save(\"Brain_Tumor_3rd_attemp_model_2.h5\")"
   ]
  },
  {
   "cell_type": "code",
   "execution_count": 28,
   "id": "ca4b614a",
   "metadata": {},
   "outputs": [],
   "source": [
    "model = tf.keras.models.load_model(\"Brain_Tumor_3rd_attemp_model.h5\")"
   ]
  },
  {
   "cell_type": "markdown",
   "id": "a4864f90",
   "metadata": {},
   "source": [
    "### Prediction with Test datasets"
   ]
  },
  {
   "cell_type": "code",
   "execution_count": 29,
   "id": "02bcc139",
   "metadata": {},
   "outputs": [
    {
     "name": "stdout",
     "output_type": "stream",
     "text": [
      "time: 4.2976\n"
     ]
    }
   ],
   "source": [
    "xTEST = list()\n",
    "TTEST = list()\n",
    "listshape = list()\n",
    "s = time.time()\n",
    "for root, dirs, files in os.walk(test_path):\n",
    "    if not dirs:\n",
    "        title = root.split(\"\\\\\")[-1]\n",
    "        for i in range(len(files)):\n",
    "            temppath = os.path.join(root, files[i])\n",
    "            \n",
    "            TTEST.append(title)\n",
    "            img = cv2.imread(temppath)\n",
    "            img = crop_brain_contour(img)\n",
    "\n",
    "            temp = resize(img, (100, 100))\n",
    "            listshape.append(temp.shape)\n",
    "            \n",
    "            xTEST.append(temp)\n",
    "print(\"time:\", np.round(time.time() - s, 4))"
   ]
  },
  {
   "cell_type": "code",
   "execution_count": 40,
   "id": "4a3c75de",
   "metadata": {},
   "outputs": [],
   "source": [
    "newT = list()\n",
    "for i in range(len(TTEST)):\n",
    "    if TTEST[i].lower() == 'no':\n",
    "        newT.append(0)\n",
    "    else:\n",
    "        newT.append(1)"
   ]
  },
  {
   "cell_type": "code",
   "execution_count": 41,
   "id": "dba9e3bc",
   "metadata": {},
   "outputs": [],
   "source": [
    "newT = to_categorical(newT)"
   ]
  },
  {
   "cell_type": "code",
   "execution_count": 44,
   "id": "b90c35e8",
   "metadata": {},
   "outputs": [],
   "source": [
    "test_gen = data_test.flow(np.array(xTEST), newT)"
   ]
  },
  {
   "cell_type": "code",
   "execution_count": 45,
   "id": "0b266b0d",
   "metadata": {},
   "outputs": [
    {
     "name": "stdout",
     "output_type": "stream",
     "text": [
      "8/8 [==============================] - 0s 27ms/step - loss: 183.3524 - accuracy: 0.6996\n"
     ]
    }
   ],
   "source": [
    "pred = model.evaluate(test_gen)"
   ]
  },
  {
   "cell_type": "code",
   "execution_count": 46,
   "id": "8f5c9b82",
   "metadata": {},
   "outputs": [
    {
     "data": {
      "text/plain": [
       "((253, 100, 100, 3), (253,))"
      ]
     },
     "execution_count": 46,
     "metadata": {},
     "output_type": "execute_result"
    }
   ],
   "source": [
    "np.array(xTEST).shape, np.array(TTEST).shape"
   ]
  },
  {
   "cell_type": "code",
   "execution_count": null,
   "id": "1875e8df",
   "metadata": {},
   "outputs": [],
   "source": []
  },
  {
   "cell_type": "code",
   "execution_count": null,
   "id": "12976b0a",
   "metadata": {},
   "outputs": [],
   "source": []
  },
  {
   "cell_type": "code",
   "execution_count": null,
   "id": "ea36c63c",
   "metadata": {},
   "outputs": [],
   "source": []
  },
  {
   "cell_type": "code",
   "execution_count": null,
   "id": "d722d931",
   "metadata": {},
   "outputs": [],
   "source": []
  },
  {
   "cell_type": "code",
   "execution_count": null,
   "id": "bf4ea860",
   "metadata": {},
   "outputs": [],
   "source": []
  },
  {
   "cell_type": "code",
   "execution_count": null,
   "id": "5d21ab6b",
   "metadata": {},
   "outputs": [],
   "source": []
  },
  {
   "cell_type": "code",
   "execution_count": null,
   "id": "f1d7dabf",
   "metadata": {},
   "outputs": [],
   "source": []
  },
  {
   "cell_type": "code",
   "execution_count": null,
   "id": "26456440",
   "metadata": {},
   "outputs": [],
   "source": []
  },
  {
   "cell_type": "code",
   "execution_count": null,
   "id": "f09d2906",
   "metadata": {},
   "outputs": [],
   "source": []
  },
  {
   "cell_type": "code",
   "execution_count": null,
   "id": "a7e2b36c",
   "metadata": {},
   "outputs": [],
   "source": []
  },
  {
   "cell_type": "code",
   "execution_count": null,
   "id": "b5008ad1",
   "metadata": {},
   "outputs": [],
   "source": []
  },
  {
   "cell_type": "code",
   "execution_count": null,
   "id": "0706ba08",
   "metadata": {},
   "outputs": [],
   "source": []
  }
 ],
 "metadata": {
  "kernelspec": {
   "display_name": "Python 3",
   "language": "python",
   "name": "python3"
  },
  "language_info": {
   "codemirror_mode": {
    "name": "ipython",
    "version": 3
   },
   "file_extension": ".py",
   "mimetype": "text/x-python",
   "name": "python",
   "nbconvert_exporter": "python",
   "pygments_lexer": "ipython3",
   "version": "3.9.5"
  }
 },
 "nbformat": 4,
 "nbformat_minor": 5
}
