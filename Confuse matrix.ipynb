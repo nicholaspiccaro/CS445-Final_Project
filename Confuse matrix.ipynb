{
 "cells": [
  {
   "cell_type": "markdown",
   "id": "ea616c24",
   "metadata": {},
   "source": [
    "## Confuse matrix\n"
   ]
  },
  {
   "cell_type": "code",
   "execution_count": 2,
   "id": "25fdeb5f",
   "metadata": {},
   "outputs": [
    {
     "data": {
      "application/javascript": [
       "IPython.notebook.set_autosave_interval(190000)"
      ]
     },
     "metadata": {},
     "output_type": "display_data"
    },
    {
     "name": "stdout",
     "output_type": "stream",
     "text": [
      "Autosaving every 190 seconds\n"
     ]
    }
   ],
   "source": [
    "import pandas as pd\n",
    "import numpy as np       \n",
    "import matplotlib.pyplot as plt     \n",
    "import seaborn as sns\n",
    "import random\n",
    "import os\n",
    "import cv2\n",
    "import shutil\n",
    "from tqdm import tqdm\n",
    "import glob\n",
    "\n",
    "from sklearn import decomposition\n",
    "from sklearn.utils import shuffle\n",
    "from sklearn.metrics import confusion_matrix, accuracy_score, precision_score, recall_score, f1_score, classification_report\n",
    "\n",
    "import tensorflow as tf\n",
    "from tensorflow.python.keras import models, layers\n",
    "from tensorflow.keras.models import Model, load_model\n",
    "from tensorflow.keras.layers import Input, Dense, Conv2D, Activation , MaxPooling2D, Flatten,Dropout,GlobalAveragePooling2D\n",
    "from tensorflow.keras.optimizers import Optimizer\n",
    "from tensorflow.keras.applications.vgg16 import VGG16, preprocess_input, decode_predictions\n",
    "from tensorflow.keras.applications import ResNet50, VGG16, DenseNet201, DenseNet121\n",
    "from tensorflow.keras.preprocessing import image\n",
    "from tensorflow.keras.preprocessing.image import ImageDataGenerator, load_img, img_to_array,array_to_img\n",
    "from tensorflow.keras.callbacks import ReduceLROnPlateau, EarlyStopping\n",
    "\n",
    "import time\n",
    "%autosave 190"
   ]
  },
  {
   "cell_type": "code",
   "execution_count": 1,
   "id": "7e61a6c9",
   "metadata": {},
   "outputs": [],
   "source": [
    "def imgGenerator(img_dir, img_h, img_w):    \n",
    "    imgGen = ImageDataGenerator(rescale=1./255)\n",
    "\n",
    "    imgGenerator = imgGen.flow_from_directory(\n",
    "        directory=img_dir,\n",
    "        target_size=(img_h, img_w),\n",
    "        color_mode='rgb',\n",
    "        class_mode='binary',\n",
    "        #classes=class_names,\n",
    "        batch_size=batch_size,\n",
    "        shuffle=False\n",
    "    )\n",
    "    \n",
    "    imgGenerator.reset()\n",
    "    pred = model.predict(imgGenerator)\n",
    "    pred = np.argmax(pred, axis=1)\n",
    "    \n",
    "    y_predict = [class_names[c] for c in pred]\n",
    "    y_test = [class_names[c] for c in imgGenerator.classes]\n",
    "\n",
    "    print('Accuracy: {:.2f}%'.format(accuracy_score(y_test, y_predict) * 100))\n",
    "\n",
    "    print(classification_report(y_test, y_predict, labels=class_names))\n",
    "\n",
    "    ax= plt.subplot()\n",
    "    sns.heatmap(confusion_matrix(y_test, y_predict, normalize = \"all\"), annot=True)\n",
    "    ax.set_xlabel('Predicted Class');ax.set_ylabel('Actual Class')\n",
    "    ax.set_title('Confusion Matrix')\n",
    "    ax.xaxis.set_ticklabels(class_names)\n",
    "    ax.yaxis.set_ticklabels(class_names);"
   ]
  },
  {
   "cell_type": "code",
   "execution_count": null,
   "id": "1da2355d",
   "metadata": {},
   "outputs": [],
   "source": [
    "img_generator = imgGenerator(valid_dir, 150, 150)\n"
   ]
  }
 ],
 "metadata": {
  "kernelspec": {
   "display_name": "Python 3",
   "language": "python",
   "name": "python3"
  },
  "language_info": {
   "codemirror_mode": {
    "name": "ipython",
    "version": 3
   },
   "file_extension": ".py",
   "mimetype": "text/x-python",
   "name": "python",
   "nbconvert_exporter": "python",
   "pygments_lexer": "ipython3",
   "version": "3.9.5"
  }
 },
 "nbformat": 4,
 "nbformat_minor": 5
}
